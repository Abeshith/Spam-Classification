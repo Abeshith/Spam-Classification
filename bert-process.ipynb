{
 "cells": [
  {
   "cell_type": "code",
   "execution_count": 1,
   "id": "27cc4078",
   "metadata": {
    "_cell_guid": "b1076dfc-b9ad-4769-8c92-a6c4dae69d19",
    "_uuid": "8f2839f25d086af736a60e9eeb907d3b93b6e0e5",
    "execution": {
     "iopub.execute_input": "2024-05-13T13:33:01.998733Z",
     "iopub.status.busy": "2024-05-13T13:33:01.998389Z",
     "iopub.status.idle": "2024-05-13T13:33:03.249175Z",
     "shell.execute_reply": "2024-05-13T13:33:03.248435Z"
    },
    "papermill": {
     "duration": 1.26002,
     "end_time": "2024-05-13T13:33:03.251474",
     "exception": false,
     "start_time": "2024-05-13T13:33:01.991454",
     "status": "completed"
    },
    "tags": []
   },
   "outputs": [],
   "source": [
    "import pandas as pd\n",
    "import numpy as np\n",
    "import matplotlib.pyplot as plt"
   ]
  },
  {
   "cell_type": "code",
   "execution_count": 2,
   "id": "ab9c4c58",
   "metadata": {
    "execution": {
     "iopub.execute_input": "2024-05-13T13:33:03.263307Z",
     "iopub.status.busy": "2024-05-13T13:33:03.262883Z",
     "iopub.status.idle": "2024-05-13T13:33:07.314645Z",
     "shell.execute_reply": "2024-05-13T13:33:07.313772Z"
    },
    "papermill": {
     "duration": 4.060051,
     "end_time": "2024-05-13T13:33:07.316893",
     "exception": false,
     "start_time": "2024-05-13T13:33:03.256842",
     "status": "completed"
    },
    "tags": []
   },
   "outputs": [
    {
     "data": {
      "text/html": [
       "<div>\n",
       "<style scoped>\n",
       "    .dataframe tbody tr th:only-of-type {\n",
       "        vertical-align: middle;\n",
       "    }\n",
       "\n",
       "    .dataframe tbody tr th {\n",
       "        vertical-align: top;\n",
       "    }\n",
       "\n",
       "    .dataframe thead th {\n",
       "        text-align: right;\n",
       "    }\n",
       "</style>\n",
       "<table border=\"1\" class=\"dataframe\">\n",
       "  <thead>\n",
       "    <tr style=\"text-align: right;\">\n",
       "      <th></th>\n",
       "      <th>label</th>\n",
       "      <th>text</th>\n",
       "    </tr>\n",
       "  </thead>\n",
       "  <tbody>\n",
       "    <tr>\n",
       "      <th>0</th>\n",
       "      <td>1</td>\n",
       "      <td>ounce feather bowl hummingbird opec moment ala...</td>\n",
       "    </tr>\n",
       "    <tr>\n",
       "      <th>1</th>\n",
       "      <td>1</td>\n",
       "      <td>wulvob get your medircations online qnb ikud v...</td>\n",
       "    </tr>\n",
       "    <tr>\n",
       "      <th>2</th>\n",
       "      <td>0</td>\n",
       "      <td>computer connection from cnn com wednesday es...</td>\n",
       "    </tr>\n",
       "    <tr>\n",
       "      <th>3</th>\n",
       "      <td>1</td>\n",
       "      <td>university degree obtain a prosperous future m...</td>\n",
       "    </tr>\n",
       "    <tr>\n",
       "      <th>4</th>\n",
       "      <td>0</td>\n",
       "      <td>thanks for all your answers guys i know i shou...</td>\n",
       "    </tr>\n",
       "  </tbody>\n",
       "</table>\n",
       "</div>"
      ],
      "text/plain": [
       "   label                                               text\n",
       "0      1  ounce feather bowl hummingbird opec moment ala...\n",
       "1      1  wulvob get your medircations online qnb ikud v...\n",
       "2      0   computer connection from cnn com wednesday es...\n",
       "3      1  university degree obtain a prosperous future m...\n",
       "4      0  thanks for all your answers guys i know i shou..."
      ]
     },
     "execution_count": 2,
     "metadata": {},
     "output_type": "execute_result"
    }
   ],
   "source": [
    "data = pd.read_csv('/kaggle/input/email-spam-classification-dataset/combined_data.csv')\n",
    "data.head()"
   ]
  },
  {
   "cell_type": "code",
   "execution_count": 3,
   "id": "2198d25a",
   "metadata": {
    "execution": {
     "iopub.execute_input": "2024-05-13T13:33:07.329409Z",
     "iopub.status.busy": "2024-05-13T13:33:07.328730Z",
     "iopub.status.idle": "2024-05-13T13:33:26.579875Z",
     "shell.execute_reply": "2024-05-13T13:33:26.578387Z"
    },
    "papermill": {
     "duration": 19.259531,
     "end_time": "2024-05-13T13:33:26.582146",
     "exception": false,
     "start_time": "2024-05-13T13:33:07.322615",
     "status": "completed"
    },
    "tags": []
   },
   "outputs": [
    {
     "name": "stdout",
     "output_type": "stream",
     "text": [
      "Requirement already satisfied: tensorflow_text in /opt/conda/lib/python3.10/site-packages (2.15.0)\r\n",
      "Requirement already satisfied: tensorflow-hub>=0.13.0 in /opt/conda/lib/python3.10/site-packages (from tensorflow_text) (0.16.1)\r\n",
      "Requirement already satisfied: tensorflow<2.16,>=2.15.0 in /opt/conda/lib/python3.10/site-packages (from tensorflow_text) (2.15.0)\r\n",
      "Requirement already satisfied: absl-py>=1.0.0 in /opt/conda/lib/python3.10/site-packages (from tensorflow<2.16,>=2.15.0->tensorflow_text) (1.4.0)\r\n",
      "Requirement already satisfied: astunparse>=1.6.0 in /opt/conda/lib/python3.10/site-packages (from tensorflow<2.16,>=2.15.0->tensorflow_text) (1.6.3)\r\n",
      "Requirement already satisfied: flatbuffers>=23.5.26 in /opt/conda/lib/python3.10/site-packages (from tensorflow<2.16,>=2.15.0->tensorflow_text) (23.5.26)\r\n",
      "Requirement already satisfied: gast!=0.5.0,!=0.5.1,!=0.5.2,>=0.2.1 in /opt/conda/lib/python3.10/site-packages (from tensorflow<2.16,>=2.15.0->tensorflow_text) (0.5.4)\r\n",
      "Requirement already satisfied: google-pasta>=0.1.1 in /opt/conda/lib/python3.10/site-packages (from tensorflow<2.16,>=2.15.0->tensorflow_text) (0.2.0)\r\n",
      "Requirement already satisfied: h5py>=2.9.0 in /opt/conda/lib/python3.10/site-packages (from tensorflow<2.16,>=2.15.0->tensorflow_text) (3.10.0)\r\n",
      "Requirement already satisfied: libclang>=13.0.0 in /opt/conda/lib/python3.10/site-packages (from tensorflow<2.16,>=2.15.0->tensorflow_text) (16.0.6)\r\n",
      "Requirement already satisfied: ml-dtypes~=0.2.0 in /opt/conda/lib/python3.10/site-packages (from tensorflow<2.16,>=2.15.0->tensorflow_text) (0.2.0)\r\n",
      "Requirement already satisfied: numpy<2.0.0,>=1.23.5 in /opt/conda/lib/python3.10/site-packages (from tensorflow<2.16,>=2.15.0->tensorflow_text) (1.26.4)\r\n",
      "Requirement already satisfied: opt-einsum>=2.3.2 in /opt/conda/lib/python3.10/site-packages (from tensorflow<2.16,>=2.15.0->tensorflow_text) (3.3.0)\r\n",
      "Requirement already satisfied: packaging in /opt/conda/lib/python3.10/site-packages (from tensorflow<2.16,>=2.15.0->tensorflow_text) (21.3)\r\n",
      "Requirement already satisfied: protobuf!=4.21.0,!=4.21.1,!=4.21.2,!=4.21.3,!=4.21.4,!=4.21.5,<5.0.0dev,>=3.20.3 in /opt/conda/lib/python3.10/site-packages (from tensorflow<2.16,>=2.15.0->tensorflow_text) (3.20.3)\r\n",
      "Requirement already satisfied: setuptools in /opt/conda/lib/python3.10/site-packages (from tensorflow<2.16,>=2.15.0->tensorflow_text) (69.0.3)\r\n",
      "Requirement already satisfied: six>=1.12.0 in /opt/conda/lib/python3.10/site-packages (from tensorflow<2.16,>=2.15.0->tensorflow_text) (1.16.0)\r\n",
      "Requirement already satisfied: termcolor>=1.1.0 in /opt/conda/lib/python3.10/site-packages (from tensorflow<2.16,>=2.15.0->tensorflow_text) (2.4.0)\r\n",
      "Requirement already satisfied: typing-extensions>=3.6.6 in /opt/conda/lib/python3.10/site-packages (from tensorflow<2.16,>=2.15.0->tensorflow_text) (4.9.0)\r\n",
      "Requirement already satisfied: wrapt<1.15,>=1.11.0 in /opt/conda/lib/python3.10/site-packages (from tensorflow<2.16,>=2.15.0->tensorflow_text) (1.14.1)\r\n",
      "Requirement already satisfied: tensorflow-io-gcs-filesystem>=0.23.1 in /opt/conda/lib/python3.10/site-packages (from tensorflow<2.16,>=2.15.0->tensorflow_text) (0.35.0)\r\n",
      "Requirement already satisfied: grpcio<2.0,>=1.24.3 in /opt/conda/lib/python3.10/site-packages (from tensorflow<2.16,>=2.15.0->tensorflow_text) (1.51.1)\r\n",
      "Requirement already satisfied: tensorboard<2.16,>=2.15 in /opt/conda/lib/python3.10/site-packages (from tensorflow<2.16,>=2.15.0->tensorflow_text) (2.15.1)\r\n",
      "Requirement already satisfied: tensorflow-estimator<2.16,>=2.15.0 in /opt/conda/lib/python3.10/site-packages (from tensorflow<2.16,>=2.15.0->tensorflow_text) (2.15.0)\r\n",
      "Collecting keras<2.16,>=2.15.0 (from tensorflow<2.16,>=2.15.0->tensorflow_text)\r\n",
      "  Downloading keras-2.15.0-py3-none-any.whl.metadata (2.4 kB)\r\n",
      "Requirement already satisfied: tf-keras>=2.14.1 in /opt/conda/lib/python3.10/site-packages (from tensorflow-hub>=0.13.0->tensorflow_text) (2.15.1)\r\n",
      "Requirement already satisfied: wheel<1.0,>=0.23.0 in /opt/conda/lib/python3.10/site-packages (from astunparse>=1.6.0->tensorflow<2.16,>=2.15.0->tensorflow_text) (0.42.0)\r\n",
      "Requirement already satisfied: google-auth<3,>=1.6.3 in /opt/conda/lib/python3.10/site-packages (from tensorboard<2.16,>=2.15->tensorflow<2.16,>=2.15.0->tensorflow_text) (2.26.1)\r\n",
      "Requirement already satisfied: google-auth-oauthlib<2,>=0.5 in /opt/conda/lib/python3.10/site-packages (from tensorboard<2.16,>=2.15->tensorflow<2.16,>=2.15.0->tensorflow_text) (1.2.0)\r\n",
      "Requirement already satisfied: markdown>=2.6.8 in /opt/conda/lib/python3.10/site-packages (from tensorboard<2.16,>=2.15->tensorflow<2.16,>=2.15.0->tensorflow_text) (3.5.2)\r\n",
      "Requirement already satisfied: requests<3,>=2.21.0 in /opt/conda/lib/python3.10/site-packages (from tensorboard<2.16,>=2.15->tensorflow<2.16,>=2.15.0->tensorflow_text) (2.31.0)\r\n",
      "Requirement already satisfied: tensorboard-data-server<0.8.0,>=0.7.0 in /opt/conda/lib/python3.10/site-packages (from tensorboard<2.16,>=2.15->tensorflow<2.16,>=2.15.0->tensorflow_text) (0.7.2)\r\n",
      "Requirement already satisfied: werkzeug>=1.0.1 in /opt/conda/lib/python3.10/site-packages (from tensorboard<2.16,>=2.15->tensorflow<2.16,>=2.15.0->tensorflow_text) (3.0.2)\r\n",
      "Requirement already satisfied: pyparsing!=3.0.5,>=2.0.2 in /opt/conda/lib/python3.10/site-packages (from packaging->tensorflow<2.16,>=2.15.0->tensorflow_text) (3.1.1)\r\n",
      "Requirement already satisfied: cachetools<6.0,>=2.0.0 in /opt/conda/lib/python3.10/site-packages (from google-auth<3,>=1.6.3->tensorboard<2.16,>=2.15->tensorflow<2.16,>=2.15.0->tensorflow_text) (4.2.4)\r\n",
      "Requirement already satisfied: pyasn1-modules>=0.2.1 in /opt/conda/lib/python3.10/site-packages (from google-auth<3,>=1.6.3->tensorboard<2.16,>=2.15->tensorflow<2.16,>=2.15.0->tensorflow_text) (0.3.0)\r\n",
      "Requirement already satisfied: rsa<5,>=3.1.4 in /opt/conda/lib/python3.10/site-packages (from google-auth<3,>=1.6.3->tensorboard<2.16,>=2.15->tensorflow<2.16,>=2.15.0->tensorflow_text) (4.9)\r\n",
      "Requirement already satisfied: requests-oauthlib>=0.7.0 in /opt/conda/lib/python3.10/site-packages (from google-auth-oauthlib<2,>=0.5->tensorboard<2.16,>=2.15->tensorflow<2.16,>=2.15.0->tensorflow_text) (1.3.1)\r\n",
      "Requirement already satisfied: charset-normalizer<4,>=2 in /opt/conda/lib/python3.10/site-packages (from requests<3,>=2.21.0->tensorboard<2.16,>=2.15->tensorflow<2.16,>=2.15.0->tensorflow_text) (3.3.2)\r\n",
      "Requirement already satisfied: idna<4,>=2.5 in /opt/conda/lib/python3.10/site-packages (from requests<3,>=2.21.0->tensorboard<2.16,>=2.15->tensorflow<2.16,>=2.15.0->tensorflow_text) (3.6)\r\n",
      "Requirement already satisfied: urllib3<3,>=1.21.1 in /opt/conda/lib/python3.10/site-packages (from requests<3,>=2.21.0->tensorboard<2.16,>=2.15->tensorflow<2.16,>=2.15.0->tensorflow_text) (1.26.18)\r\n",
      "Requirement already satisfied: certifi>=2017.4.17 in /opt/conda/lib/python3.10/site-packages (from requests<3,>=2.21.0->tensorboard<2.16,>=2.15->tensorflow<2.16,>=2.15.0->tensorflow_text) (2024.2.2)\r\n",
      "Requirement already satisfied: MarkupSafe>=2.1.1 in /opt/conda/lib/python3.10/site-packages (from werkzeug>=1.0.1->tensorboard<2.16,>=2.15->tensorflow<2.16,>=2.15.0->tensorflow_text) (2.1.3)\r\n",
      "Requirement already satisfied: pyasn1<0.6.0,>=0.4.6 in /opt/conda/lib/python3.10/site-packages (from pyasn1-modules>=0.2.1->google-auth<3,>=1.6.3->tensorboard<2.16,>=2.15->tensorflow<2.16,>=2.15.0->tensorflow_text) (0.5.1)\r\n",
      "Requirement already satisfied: oauthlib>=3.0.0 in /opt/conda/lib/python3.10/site-packages (from requests-oauthlib>=0.7.0->google-auth-oauthlib<2,>=0.5->tensorboard<2.16,>=2.15->tensorflow<2.16,>=2.15.0->tensorflow_text) (3.2.2)\r\n",
      "Downloading keras-2.15.0-py3-none-any.whl (1.7 MB)\r\n",
      "\u001b[2K   \u001b[90m━━━━━━━━━━━━━━━━━━━━━━━━━━━━━━━━━━━━━━━━\u001b[0m \u001b[32m1.7/1.7 MB\u001b[0m \u001b[31m6.6 MB/s\u001b[0m eta \u001b[36m0:00:00\u001b[0m\r\n",
      "\u001b[?25hInstalling collected packages: keras\r\n",
      "  Attempting uninstall: keras\r\n",
      "    Found existing installation: keras 3.2.1\r\n",
      "    Uninstalling keras-3.2.1:\r\n",
      "      Successfully uninstalled keras-3.2.1\r\n",
      "\u001b[31mERROR: pip's dependency resolver does not currently take into account all the packages that are installed. This behaviour is the source of the following dependency conflicts.\r\n",
      "tensorflow-decision-forests 1.8.1 requires wurlitzer, which is not installed.\u001b[0m\u001b[31m\r\n",
      "\u001b[0mSuccessfully installed keras-2.15.0\r\n",
      "Note: you may need to restart the kernel to use updated packages.\n"
     ]
    }
   ],
   "source": [
    "pip install tensorflow_text"
   ]
  },
  {
   "cell_type": "code",
   "execution_count": 4,
   "id": "4d3ad7fe",
   "metadata": {
    "execution": {
     "iopub.execute_input": "2024-05-13T13:33:26.598293Z",
     "iopub.status.busy": "2024-05-13T13:33:26.597958Z",
     "iopub.status.idle": "2024-05-13T13:33:46.251014Z",
     "shell.execute_reply": "2024-05-13T13:33:46.250238Z"
    },
    "papermill": {
     "duration": 19.663915,
     "end_time": "2024-05-13T13:33:46.253442",
     "exception": false,
     "start_time": "2024-05-13T13:33:26.589527",
     "status": "completed"
    },
    "tags": []
   },
   "outputs": [
    {
     "name": "stderr",
     "output_type": "stream",
     "text": [
      "2024-05-13 13:33:30.302070: E external/local_xla/xla/stream_executor/cuda/cuda_dnn.cc:9261] Unable to register cuDNN factory: Attempting to register factory for plugin cuDNN when one has already been registered\n",
      "2024-05-13 13:33:30.302181: E external/local_xla/xla/stream_executor/cuda/cuda_fft.cc:607] Unable to register cuFFT factory: Attempting to register factory for plugin cuFFT when one has already been registered\n",
      "2024-05-13 13:33:30.579900: E external/local_xla/xla/stream_executor/cuda/cuda_blas.cc:1515] Unable to register cuBLAS factory: Attempting to register factory for plugin cuBLAS when one has already been registered\n"
     ]
    }
   ],
   "source": [
    "import tensorflow_text as text"
   ]
  },
  {
   "cell_type": "code",
   "execution_count": 5,
   "id": "dd5de139",
   "metadata": {
    "execution": {
     "iopub.execute_input": "2024-05-13T13:33:46.269879Z",
     "iopub.status.busy": "2024-05-13T13:33:46.269309Z",
     "iopub.status.idle": "2024-05-13T13:33:46.273641Z",
     "shell.execute_reply": "2024-05-13T13:33:46.272798Z"
    },
    "papermill": {
     "duration": 0.014612,
     "end_time": "2024-05-13T13:33:46.275638",
     "exception": false,
     "start_time": "2024-05-13T13:33:46.261026",
     "status": "completed"
    },
    "tags": []
   },
   "outputs": [],
   "source": [
    "import tensorflow as tf\n",
    "import tensorflow_hub as hub"
   ]
  },
  {
   "cell_type": "code",
   "execution_count": 6,
   "id": "f0f8b60c",
   "metadata": {
    "execution": {
     "iopub.execute_input": "2024-05-13T13:33:46.291697Z",
     "iopub.status.busy": "2024-05-13T13:33:46.291401Z",
     "iopub.status.idle": "2024-05-13T13:33:46.297718Z",
     "shell.execute_reply": "2024-05-13T13:33:46.296921Z"
    },
    "papermill": {
     "duration": 0.016477,
     "end_time": "2024-05-13T13:33:46.299655",
     "exception": false,
     "start_time": "2024-05-13T13:33:46.283178",
     "status": "completed"
    },
    "tags": []
   },
   "outputs": [
    {
     "data": {
      "text/plain": [
       "'2.15.0'"
      ]
     },
     "execution_count": 6,
     "metadata": {},
     "output_type": "execute_result"
    }
   ],
   "source": [
    "tf.__version__"
   ]
  },
  {
   "cell_type": "code",
   "execution_count": 7,
   "id": "b0a131e9",
   "metadata": {
    "execution": {
     "iopub.execute_input": "2024-05-13T13:33:46.315545Z",
     "iopub.status.busy": "2024-05-13T13:33:46.315271Z",
     "iopub.status.idle": "2024-05-13T13:33:46.328638Z",
     "shell.execute_reply": "2024-05-13T13:33:46.327934Z"
    },
    "papermill": {
     "duration": 0.023542,
     "end_time": "2024-05-13T13:33:46.330554",
     "exception": false,
     "start_time": "2024-05-13T13:33:46.307012",
     "status": "completed"
    },
    "tags": []
   },
   "outputs": [],
   "source": [
    "text_input = tf.keras.layers.Input(shape=(), dtype=tf.string)"
   ]
  },
  {
   "cell_type": "code",
   "execution_count": 8,
   "id": "1bae39c4",
   "metadata": {
    "execution": {
     "iopub.execute_input": "2024-05-13T13:33:46.346513Z",
     "iopub.status.busy": "2024-05-13T13:33:46.346222Z",
     "iopub.status.idle": "2024-05-13T13:33:50.013703Z",
     "shell.execute_reply": "2024-05-13T13:33:50.012886Z"
    },
    "papermill": {
     "duration": 3.67806,
     "end_time": "2024-05-13T13:33:50.015976",
     "exception": false,
     "start_time": "2024-05-13T13:33:46.337916",
     "status": "completed"
    },
    "tags": []
   },
   "outputs": [
    {
     "name": "stderr",
     "output_type": "stream",
     "text": [
      "Attaching model 'tensorflow/bert/tensorflow2/en-uncased-preprocess/3' to your Kaggle notebook...\n"
     ]
    }
   ],
   "source": [
    "preprocessor = hub.KerasLayer(\"https://kaggle.com/models/tensorflow/bert/TensorFlow2/en-uncased-preprocess/3\")"
   ]
  },
  {
   "cell_type": "code",
   "execution_count": 9,
   "id": "100f16c7",
   "metadata": {
    "execution": {
     "iopub.execute_input": "2024-05-13T13:33:50.033726Z",
     "iopub.status.busy": "2024-05-13T13:33:50.033408Z",
     "iopub.status.idle": "2024-05-13T13:33:50.562730Z",
     "shell.execute_reply": "2024-05-13T13:33:50.561950Z"
    },
    "papermill": {
     "duration": 0.540771,
     "end_time": "2024-05-13T13:33:50.565005",
     "exception": false,
     "start_time": "2024-05-13T13:33:50.024234",
     "status": "completed"
    },
    "tags": []
   },
   "outputs": [],
   "source": [
    "encoder_inputs = preprocessor(text_input)"
   ]
  },
  {
   "cell_type": "code",
   "execution_count": 10,
   "id": "914d65b8",
   "metadata": {
    "execution": {
     "iopub.execute_input": "2024-05-13T13:33:50.581991Z",
     "iopub.status.busy": "2024-05-13T13:33:50.581684Z",
     "iopub.status.idle": "2024-05-13T13:33:51.559699Z",
     "shell.execute_reply": "2024-05-13T13:33:51.558577Z"
    },
    "papermill": {
     "duration": 0.988979,
     "end_time": "2024-05-13T13:33:51.562112",
     "exception": false,
     "start_time": "2024-05-13T13:33:50.573133",
     "status": "completed"
    },
    "tags": []
   },
   "outputs": [
    {
     "name": "stdout",
     "output_type": "stream",
     "text": [
      "Python 3.10.13\r\n"
     ]
    }
   ],
   "source": [
    "!python --version"
   ]
  },
  {
   "cell_type": "code",
   "execution_count": 11,
   "id": "a3f744b1",
   "metadata": {
    "execution": {
     "iopub.execute_input": "2024-05-13T13:33:51.581086Z",
     "iopub.status.busy": "2024-05-13T13:33:51.580748Z",
     "iopub.status.idle": "2024-05-13T13:33:57.824491Z",
     "shell.execute_reply": "2024-05-13T13:33:57.823502Z"
    },
    "papermill": {
     "duration": 6.256418,
     "end_time": "2024-05-13T13:33:57.826976",
     "exception": false,
     "start_time": "2024-05-13T13:33:51.570558",
     "status": "completed"
    },
    "tags": []
   },
   "outputs": [
    {
     "name": "stderr",
     "output_type": "stream",
     "text": [
      "Attaching model 'tensorflow/bert/tensorflow2/bert-en-uncased-l-4-h-768-a-12/2' to your Kaggle notebook...\n"
     ]
    }
   ],
   "source": [
    "encoder = hub.KerasLayer(\n",
    "    \"https://www.kaggle.com/models/tensorflow/bert/TensorFlow2/bert-en-uncased-l-4-h-768-a-12/2\",\n",
    "    trainable=True)"
   ]
  },
  {
   "cell_type": "code",
   "execution_count": 12,
   "id": "dd66c24f",
   "metadata": {
    "execution": {
     "iopub.execute_input": "2024-05-13T13:33:57.844690Z",
     "iopub.status.busy": "2024-05-13T13:33:57.844373Z",
     "iopub.status.idle": "2024-05-13T13:33:57.940629Z",
     "shell.execute_reply": "2024-05-13T13:33:57.939612Z"
    },
    "papermill": {
     "duration": 0.107597,
     "end_time": "2024-05-13T13:33:57.942943",
     "exception": false,
     "start_time": "2024-05-13T13:33:57.835346",
     "status": "completed"
    },
    "tags": []
   },
   "outputs": [],
   "source": [
    "outputs = encoder(encoder_inputs)\n",
    "pooled_output = outputs[\"pooled_output\"]      # [batch_size, 768].\n",
    "sequence_output = outputs[\"sequence_output\"]  # [batch_size, seq_length, 768]."
   ]
  },
  {
   "cell_type": "code",
   "execution_count": 13,
   "id": "b991a5c5",
   "metadata": {
    "execution": {
     "iopub.execute_input": "2024-05-13T13:33:57.960724Z",
     "iopub.status.busy": "2024-05-13T13:33:57.960390Z",
     "iopub.status.idle": "2024-05-13T13:33:58.075641Z",
     "shell.execute_reply": "2024-05-13T13:33:58.074658Z"
    },
    "papermill": {
     "duration": 0.126827,
     "end_time": "2024-05-13T13:33:58.078108",
     "exception": false,
     "start_time": "2024-05-13T13:33:57.951281",
     "status": "completed"
    },
    "tags": []
   },
   "outputs": [],
   "source": [
    "fii = tf.keras.layers.Dropout(0.2,name='dropout')(pooled_output)\n",
    "fii=tf.keras.layers.Dense(64,activation='relu',name='hidden')(fii)\n",
    "fii=tf.keras.layers.Dense(32,activation='relu',name='hiddenn')(fii)\n",
    "fii=tf.keras.layers.Dense(8,activation='relu',name='hiddennn')(fii)\n",
    "fii=tf.keras.layers.Dense(1,activation='sigmoid',name='output')(fii)"
   ]
  },
  {
   "cell_type": "code",
   "execution_count": 14,
   "id": "ae3e4f6f",
   "metadata": {
    "execution": {
     "iopub.execute_input": "2024-05-13T13:33:58.096414Z",
     "iopub.status.busy": "2024-05-13T13:33:58.095983Z",
     "iopub.status.idle": "2024-05-13T13:33:58.109095Z",
     "shell.execute_reply": "2024-05-13T13:33:58.108146Z"
    },
    "papermill": {
     "duration": 0.024927,
     "end_time": "2024-05-13T13:33:58.111524",
     "exception": false,
     "start_time": "2024-05-13T13:33:58.086597",
     "status": "completed"
    },
    "tags": []
   },
   "outputs": [],
   "source": [
    "model=tf.keras.Model(inputs=[text_input],outputs=[fii])"
   ]
  },
  {
   "cell_type": "code",
   "execution_count": 15,
   "id": "aa163ec3",
   "metadata": {
    "execution": {
     "iopub.execute_input": "2024-05-13T13:33:58.129649Z",
     "iopub.status.busy": "2024-05-13T13:33:58.129340Z",
     "iopub.status.idle": "2024-05-13T13:33:59.617235Z",
     "shell.execute_reply": "2024-05-13T13:33:59.616140Z"
    },
    "papermill": {
     "duration": 1.499276,
     "end_time": "2024-05-13T13:33:59.619709",
     "exception": false,
     "start_time": "2024-05-13T13:33:58.120433",
     "status": "completed"
    },
    "tags": []
   },
   "outputs": [],
   "source": [
    "from sklearn.model_selection import train_test_split\n",
    "X_train, X_test, y_train, y_test = train_test_split(data['text'], data['label'], test_size=0.3, random_state=42)"
   ]
  },
  {
   "cell_type": "code",
   "execution_count": 16,
   "id": "315ee63b",
   "metadata": {
    "execution": {
     "iopub.execute_input": "2024-05-13T13:33:59.638180Z",
     "iopub.status.busy": "2024-05-13T13:33:59.637831Z",
     "iopub.status.idle": "2024-05-13T13:33:59.657519Z",
     "shell.execute_reply": "2024-05-13T13:33:59.656574Z"
    },
    "papermill": {
     "duration": 0.031165,
     "end_time": "2024-05-13T13:33:59.659645",
     "exception": false,
     "start_time": "2024-05-13T13:33:59.628480",
     "status": "completed"
    },
    "tags": []
   },
   "outputs": [],
   "source": [
    "model.compile(optimizer='adam', loss='binary_crossentropy', metrics=['accuracy'])"
   ]
  },
  {
   "cell_type": "code",
   "execution_count": 17,
   "id": "8bf275e1",
   "metadata": {
    "execution": {
     "iopub.execute_input": "2024-05-13T13:33:59.677827Z",
     "iopub.status.busy": "2024-05-13T13:33:59.677525Z",
     "iopub.status.idle": "2024-05-13T13:33:59.682287Z",
     "shell.execute_reply": "2024-05-13T13:33:59.681434Z"
    },
    "papermill": {
     "duration": 0.015906,
     "end_time": "2024-05-13T13:33:59.684120",
     "exception": false,
     "start_time": "2024-05-13T13:33:59.668214",
     "status": "completed"
    },
    "tags": []
   },
   "outputs": [],
   "source": [
    "early_stopping = tf.keras.callbacks.EarlyStopping(\n",
    "    monitor='val_loss',\n",
    "    min_delta=0,\n",
    "    patience=0,\n",
    "    verbose=0,\n",
    "    mode='auto',\n",
    "    baseline=None,\n",
    "    restore_best_weights=False,\n",
    "    start_from_epoch=0,\n",
    ")"
   ]
  },
  {
   "cell_type": "code",
   "execution_count": 18,
   "id": "78118df3",
   "metadata": {
    "execution": {
     "iopub.execute_input": "2024-05-13T13:33:59.702118Z",
     "iopub.status.busy": "2024-05-13T13:33:59.701544Z",
     "iopub.status.idle": "2024-05-13T14:10:19.993250Z",
     "shell.execute_reply": "2024-05-13T14:10:19.992256Z"
    },
    "papermill": {
     "duration": 2180.358085,
     "end_time": "2024-05-13T14:10:20.050351",
     "exception": false,
     "start_time": "2024-05-13T13:33:59.692266",
     "status": "completed"
    },
    "tags": []
   },
   "outputs": [
    {
     "name": "stdout",
     "output_type": "stream",
     "text": [
      "Epoch 1/2\n"
     ]
    },
    {
     "name": "stderr",
     "output_type": "stream",
     "text": [
      "WARNING: All log messages before absl::InitializeLog() is called are written to STDERR\n",
      "I0000 00:00:1715607254.899351      77 device_compiler.h:186] Compiled cluster using XLA!  This line is logged at most once for the lifetime of the process.\n"
     ]
    },
    {
     "name": "stdout",
     "output_type": "stream",
     "text": [
      "293/293 [==============================] - 1096s 4s/step - loss: 0.6759 - accuracy: 0.5352 - val_loss: 0.6647 - val_accuracy: 0.5279\n",
      "Epoch 2/2\n",
      "293/293 [==============================] - 1084s 4s/step - loss: 0.6640 - accuracy: 0.5224 - val_loss: 0.6655 - val_accuracy: 0.5227\n"
     ]
    }
   ],
   "source": [
    "model_history = model.fit(X_train, y_train, epochs=2,batch_size=200, validation_split=0.33,validation_data=(X_test,y_test), callbacks=[early_stopping])"
   ]
  },
  {
   "cell_type": "code",
   "execution_count": 19,
   "id": "7f768385",
   "metadata": {
    "execution": {
     "iopub.execute_input": "2024-05-13T14:10:20.163761Z",
     "iopub.status.busy": "2024-05-13T14:10:20.163400Z",
     "iopub.status.idle": "2024-05-13T14:10:20.169363Z",
     "shell.execute_reply": "2024-05-13T14:10:20.168455Z"
    },
    "papermill": {
     "duration": 0.065424,
     "end_time": "2024-05-13T14:10:20.171506",
     "exception": false,
     "start_time": "2024-05-13T14:10:20.106082",
     "status": "completed"
    },
    "tags": []
   },
   "outputs": [
    {
     "data": {
      "text/plain": [
       "dict_keys(['loss', 'accuracy', 'val_loss', 'val_accuracy'])"
      ]
     },
     "execution_count": 19,
     "metadata": {},
     "output_type": "execute_result"
    }
   ],
   "source": [
    "model_history.history.keys()"
   ]
  },
  {
   "cell_type": "code",
   "execution_count": 20,
   "id": "3e443ae5",
   "metadata": {
    "execution": {
     "iopub.execute_input": "2024-05-13T14:10:20.285294Z",
     "iopub.status.busy": "2024-05-13T14:10:20.284675Z",
     "iopub.status.idle": "2024-05-13T14:10:20.683417Z",
     "shell.execute_reply": "2024-05-13T14:10:20.682408Z"
    },
    "papermill": {
     "duration": 0.45882,
     "end_time": "2024-05-13T14:10:20.685852",
     "exception": false,
     "start_time": "2024-05-13T14:10:20.227032",
     "status": "completed"
    },
    "tags": []
   },
   "outputs": [
    {
     "data": {
      "image/png": "[encoded data removed]",
      "text/plain": [
       "<Figure size 640x480 with 1 Axes>"
      ]
     },
     "metadata": {},
     "output_type": "display_data"
    }
   ],
   "source": [
    "plt.plot(model_history.history['accuracy'])\n",
    "plt.plot(model_history.history['loss'])\n",
    "plt.legend(['accuracy','val_accuracy'],loc='upper right')\n",
    "plt.title(\"model accuracy\")\n",
    "plt.xlabel(\"epoch\")\n",
    "plt.ylabel(\"accuracy\")\n",
    "plt.show()"
   ]
  },
  {
   "cell_type": "code",
   "execution_count": 21,
   "id": "b03e7d85",
   "metadata": {
    "execution": {
     "iopub.execute_input": "2024-05-13T14:10:20.802092Z",
     "iopub.status.busy": "2024-05-13T14:10:20.801238Z",
     "iopub.status.idle": "2024-05-13T14:12:18.059775Z",
     "shell.execute_reply": "2024-05-13T14:12:18.058889Z"
    },
    "papermill": {
     "duration": 117.318494,
     "end_time": "2024-05-13T14:12:18.062146",
     "exception": false,
     "start_time": "2024-05-13T14:10:20.743652",
     "status": "completed"
    },
    "tags": []
   },
   "outputs": [
    {
     "name": "stdout",
     "output_type": "stream",
     "text": [
      "783/783 [==============================] - 117s 149ms/step\n"
     ]
    }
   ],
   "source": [
    "y_predict=model.predict(X_test)"
   ]
  }
 ],
 "metadata": {
  "kaggle": {
   "accelerator": "nvidiaTeslaT4",
   "dataSources": [
    {
     "datasetId": 3962399,
     "sourceId": 6897944,
     "sourceType": "datasetVersion"
    },
    {
     "modelInstanceId": 1906,
     "sourceId": 2636,
     "sourceType": "modelInstanceVersion"
    },
    {
     "modelInstanceId": 2180,
     "sourceId": 2938,
     "sourceType": "modelInstanceVersion"
    }
   ],
   "dockerImageVersionId": 30698,
   "isGpuEnabled": true,
   "isInternetEnabled": true,
   "language": "python",
   "sourceType": "notebook"
  },
  "kernelspec": {
   "display_name": "Python 3",
   "language": "python",
   "name": "python3"
  },
  "language_info": {
   "codemirror_mode": {
    "name": "ipython",
    "version": 3
   },
   "file_extension": ".py",
   "mimetype": "text/x-python",
   "name": "python",
   "nbconvert_exporter": "python",
   "pygments_lexer": "ipython3",
   "version": "3.10.13"
  },
  "papermill": {
   "default_parameters": {},
   "duration": 2363.049418,
   "end_time": "2024-05-13T14:12:21.196881",
   "environment_variables": {},
   "exception": null,
   "input_path": "__notebook__.ipynb",
   "output_path": "__notebook__.ipynb",
   "parameters": {},
   "start_time": "2024-05-13T13:32:58.147463",
   "version": "2.5.0"
  }
 },
 "nbformat": 4,
 "nbformat_minor": 5
}
